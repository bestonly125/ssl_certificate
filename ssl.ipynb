{
 "cells": [
  {
   "cell_type": "code",
   "execution_count": 1,
   "id": "bb50b971-3f4e-4a58-9ffa-28538d7da1fe",
   "metadata": {},
   "outputs": [],
   "source": [
    "from cryptography import x509\n",
    "from cryptography.x509.oid import NameOID\n",
    "from cryptography.hazmat.primitives import hashes\n",
    "from cryptography.hazmat.primitives.asymmetric import rsa\n",
    "from cryptography.hazmat.primitives import serialization\n",
    "import datetime"
   ]
  },
  {
   "cell_type": "markdown",
   "id": "68942893-ce70-41cd-bd8a-88627fe2cd28",
   "metadata": {},
   "source": [
    "# Генерация приватного ключа"
   ]
  },
  {
   "cell_type": "code",
   "execution_count": 2,
   "id": "83d5b4d8-8c60-4ceb-8e73-37d4b29e1631",
   "metadata": {},
   "outputs": [],
   "source": [
    "private_key = rsa.generate_private_key(\n",
    "    public_exponent=65537,\n",
    "    key_size=2048,\n",
    ")"
   ]
  },
  {
   "cell_type": "markdown",
   "id": "3f19e624-411e-4177-a63b-8aa3a4f270b1",
   "metadata": {},
   "source": [
    "# Создание самоподписанного сертификата"
   ]
  },
  {
   "cell_type": "code",
   "execution_count": 3,
   "id": "8696932b-4f1c-4f09-a3c2-3fe650861784",
   "metadata": {},
   "outputs": [],
   "source": [
    "country =\"UZ\"\n",
    "province = \"Samarkand\"\n",
    "location = \"Samarkand\"\n",
    "organization = \"SF TUIT\"\n",
    "common_name = \"samtuit.uz\"\n",
    "days=365"
   ]
  },
  {
   "cell_type": "code",
   "execution_count": 4,
   "id": "e40b4099-5608-4073-956c-4e576793b7a1",
   "metadata": {},
   "outputs": [],
   "source": [
    "subject = issuer = x509.Name([\n",
    "    x509.NameAttribute(NameOID.COUNTRY_NAME, country),\n",
    "    x509.NameAttribute(NameOID.STATE_OR_PROVINCE_NAME, province),\n",
    "    x509.NameAttribute(NameOID.LOCALITY_NAME, location),\n",
    "    x509.NameAttribute(NameOID.ORGANIZATION_NAME, organization),\n",
    "    x509.NameAttribute(NameOID.COMMON_NAME, common_name),\n",
    "])"
   ]
  },
  {
   "cell_type": "code",
   "execution_count": 5,
   "id": "80929f52-e98e-49f9-8b67-a4d531c1dea3",
   "metadata": {},
   "outputs": [],
   "source": [
    "certificate = x509.CertificateBuilder().subject_name(\n",
    "    subject\n",
    ").issuer_name(\n",
    "    issuer\n",
    ").public_key(\n",
    "    private_key.public_key()\n",
    ").serial_number(\n",
    "    x509.random_serial_number()\n",
    ").not_valid_before(\n",
    "    datetime.datetime.utcnow()\n",
    ").not_valid_after(\n",
    "    # Сертификат будет действителен 365 дней\n",
    "    datetime.datetime.utcnow() + datetime.timedelta(days=days)\n",
    ").add_extension(\n",
    "    x509.SubjectAlternativeName([x509.DNSName(\"mycompany.com\")]),\n",
    "    critical=False,\n",
    ").sign(private_key, hashes.SHA256())"
   ]
  },
  {
   "cell_type": "markdown",
   "id": "4e8d058f-0ea6-4d49-af17-8627f595a4d5",
   "metadata": {},
   "source": [
    "# Сохранение приватного ключа на диск"
   ]
  },
  {
   "cell_type": "code",
   "execution_count": 6,
   "id": "cef5e05f-193c-41cf-8bf6-4c520c9b032c",
   "metadata": {},
   "outputs": [],
   "source": [
    "with open(\"private_key.pem\", \"wb\") as f:\n",
    "    f.write(private_key.private_bytes(\n",
    "        encoding=serialization.Encoding.PEM,\n",
    "        format=serialization.PrivateFormat.TraditionalOpenSSL,\n",
    "        encryption_algorithm=serialization.NoEncryption()\n",
    "    ))"
   ]
  },
  {
   "cell_type": "markdown",
   "id": "763bd556-b5e1-49c9-bd29-9a14f45f0540",
   "metadata": {},
   "source": [
    "# Сохранение сертификата на диск"
   ]
  },
  {
   "cell_type": "code",
   "execution_count": 7,
   "id": "b5d376fd-8b79-4ea3-ab1b-e24e05101c6f",
   "metadata": {},
   "outputs": [
    {
     "name": "stdout",
     "output_type": "stream",
     "text": [
      "Сертификат и ключ успешно сгенерированы и сохранены в файлы 'private_key.pem' и 'certificate.pem'.\n"
     ]
    }
   ],
   "source": [
    "with open(\"certificate.pem\", \"wb\") as f:\n",
    "    f.write(certificate.public_bytes(serialization.Encoding.PEM))\n",
    "\n",
    "print(\"Сертификат и ключ успешно сгенерированы и сохранены в файлы 'private_key.pem' и 'certificate.pem'.\")\n"
   ]
  },
  {
   "cell_type": "code",
   "execution_count": null,
   "id": "c831b703-9c8f-4cbd-94d0-2bf21f907d54",
   "metadata": {},
   "outputs": [],
   "source": []
  }
 ],
 "metadata": {
  "kernelspec": {
   "display_name": "Python 3 (ipykernel)",
   "language": "python",
   "name": "python3"
  },
  "language_info": {
   "codemirror_mode": {
    "name": "ipython",
    "version": 3
   },
   "file_extension": ".py",
   "mimetype": "text/x-python",
   "name": "python",
   "nbconvert_exporter": "python",
   "pygments_lexer": "ipython3",
   "version": "3.8.10"
  }
 },
 "nbformat": 4,
 "nbformat_minor": 5
}
